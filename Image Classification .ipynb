{
 "cells": [
  {
   "cell_type": "markdown",
   "metadata": {
    "id": "2lipeNI33Pbe"
   },
   "source": [
    "## Question 1. MNIST classification using multi-class logistic regression \n",
    "\n",
    "Consider a L2-regularized multi-class logistic regression model using the MNIST dataset. \n",
    "\n",
    "The model is given by\n",
    "$\\hat{y}=\\sigma(W^TX+\\mathbf{b})$, where $\\sigma(\\cdot)$ is \n",
    "the softmax function \n",
    "$$\\sigma_j(x) = \\frac{e^{z_j}}{\\sum_{k=1}^{K}e^{z_k}}$$\n",
    "\n",
    "The objective is the cross-entropy loss function:\n",
    "\n",
    "$$l(\\hat{y},y)=-\\sum_{k=1}^{K}y_k\\log(\\hat{y_k})$$\n",
    "\n",
    "where $K$ is the number of classes and $\\hat{y_{k}}$ is the output probability that a sample belongs to class k, with a L2 regularizer on the weight parameters $W$, i.e., $\\lambda||W||_2^2$, the L2 norm of the vectorized $W$ where $\\lambda$ is a hyper-parameter. \n",
    "\n",
    "The hyper-parameter settings are given as below:\n",
    "- minibatch size = 128 \n",
    "- starting learning rate $\\eta^{(0)}=0.001$\n",
    "- decaying learning rate $\\eta^{(t)}=\\eta^{(0)}/\\sqrt{t}$ during training where $t$ is the number of epochs \n",
    "- Momentum = 0.7\n",
    "- $\\lambda=0.01$\n",
    "- total number of epoches = 45\n",
    "\n",
    "**Task:** Evaluate and plot **the average loss per epoch** versus the number of epochs for the training dataset, for the following optimization algorithms:\n",
    "- Mini-batch gradient descent\n",
    "- Mini-batch AdaGrad\n",
    "- Mini-batch gradient descent with Nesterov’s momentum\n",
    "- Mini-batch Adam \n",
    "\n",
    "Discuss how the performance of different optimization algorithms compare to each other.\n"
   ]
  },
  {
   "cell_type": "code",
   "execution_count": 1,
   "metadata": {
    "id": "qFgWvvaa3Pbj"
   },
   "outputs": [],
   "source": [
    "# Load required libraries\n",
    "import tensorflow as tf \n",
    "from tensorflow import keras\n",
    "from tensorflow.keras.models import Sequential\n",
    "from tensorflow.keras.layers import Dense, Conv2D, MaxPooling2D, Flatten, Dropout, BatchNormalization\n",
    "from tensorflow.keras.datasets import mnist, cifar10\n",
    "import numpy as np\n",
    "import matplotlib.pyplot as plt \n",
    "from matplotlib.pyplot import figure"
   ]
  },
  {
   "cell_type": "code",
   "execution_count": 2,
   "metadata": {
    "colab": {
     "base_uri": "https://localhost:8080/"
    },
    "id": "bHmFkIdy3Pbj",
    "outputId": "b2577d75-bde1-4ed1-a368-9c8d9d7a864c"
   },
   "outputs": [
    {
     "name": "stdout",
     "output_type": "stream",
     "text": [
      "(60000, 28, 28) (60000,)\n",
      "(10000, 28, 28) (10000,)\n",
      "[5 0 4 1]\n",
      "[0 1 2 3 4 5 6 7 8 9]\n",
      "255 0\n"
     ]
    }
   ],
   "source": [
    "tf.random.set_seed(1)\n",
    "# loading the mnist dataset \n",
    "(x_train, y_train), (x_test, y_test) = mnist.load_data()\n",
    "\n",
    "# print shape of training data\n",
    "print(x_train.shape, y_train.shape)\n",
    "\n",
    "# print shape of testing data\n",
    "print(x_test.shape, y_test.shape)\n",
    "\n",
    "# print out first 4 examples\n",
    "print(y_train[:4]) \n",
    "\n",
    "# see unique labels in training data\n",
    "print(np.unique(y_train))\n",
    "\n",
    "# Range of values in training data\n",
    "print(np.max(x_train), np.min(x_train))"
   ]
  },
  {
   "cell_type": "code",
   "execution_count": 3,
   "metadata": {
    "colab": {
     "base_uri": "https://localhost:8080/"
    },
    "id": "PtJPTvN_3Pbk",
    "outputId": "f8cfe097-5800-4ab2-dc44-0eb15a8c0246"
   },
   "outputs": [
    {
     "name": "stdout",
     "output_type": "stream",
     "text": [
      "(60000, 784)\n",
      "1.0 0.0\n"
     ]
    }
   ],
   "source": [
    "# preprocessing the training data\n",
    "x_train_p = np.reshape(x_train/255. , (-1,28*28))\n",
    "\n",
    "# shape of preprocessed training data\n",
    "print(x_train_p.shape)\n",
    "\n",
    "# Range of values in preprocessed training data\n",
    "print(np.max(x_train_p), np.min(x_train_p))"
   ]
  },
  {
   "cell_type": "markdown",
   "metadata": {
    "id": "mVF7iKq43Pbl"
   },
   "source": [
    "# 1.) Training using Mini-batch gradient descent"
   ]
  },
  {
   "cell_type": "code",
   "execution_count": 4,
   "metadata": {
    "id": "-YqVXZzI3Pbl"
   },
   "outputs": [],
   "source": [
    "# defining callback for reducing learning rate based on epoch\n",
    "def scheduler(epoch, lr):\n",
    "    \n",
    "    # set base learning rate \n",
    "    base_lr = 0.001\n",
    "    \n",
    "    # +1 because epoch starts at 0\n",
    "    lr_new  = base_lr/np.sqrt(epoch+1)\n",
    "    return lr_new \n",
    "\n",
    "# set callback to be used during model.fit()\n",
    "callback = tf.keras.callbacks.LearningRateScheduler(scheduler)"
   ]
  },
  {
   "cell_type": "code",
   "execution_count": 5,
   "metadata": {
    "colab": {
     "base_uri": "https://localhost:8080/"
    },
    "id": "gVwc7jWH3Pbl",
    "outputId": "e03c37ec-0a0a-4e7b-ca91-da5e62457bc3"
   },
   "outputs": [
    {
     "name": "stdout",
     "output_type": "stream",
     "text": [
      "Model: \"sequential\"\n",
      "_________________________________________________________________\n",
      "Layer (type)                 Output Shape              Param #   \n",
      "=================================================================\n",
      "dense (Dense)                (None, 10)                7850      \n",
      "=================================================================\n",
      "Total params: 7,850\n",
      "Trainable params: 7,850\n",
      "Non-trainable params: 0\n",
      "_________________________________________________________________\n"
     ]
    }
   ],
   "source": [
    "tf.random.set_seed(1)\n",
    "# defining the logistic regression model \n",
    "model = Sequential([Dense(units=10, activation=\"softmax\", kernel_regularizer=tf.keras.regularizers.l2(0.01), input_shape=(28*28,))]) \n",
    "\n",
    "# Check out summary\n",
    "model.summary()\n",
    "\n",
    "# Set number of epochs\n",
    "num_epochs = 45\n",
    "\n",
    "# Set batch size #\n",
    "num_batch_size = 128\n",
    "\n",
    "# compile model\n",
    "model.compile(optimizer = tf.keras.optimizers.SGD(learning_rate=0.001), loss=\"sparse_categorical_crossentropy\")\n",
    "\n",
    "# History for plot later on\n",
    "History_gd = model.fit(x_train_p,y_train, epochs = num_epochs, batch_size = 128,\n",
    "                       # can change verbose=1 to see the logs\n",
    "                       verbose=0, callbacks=[callback]) "
   ]
  },
  {
   "cell_type": "markdown",
   "metadata": {
    "id": "Jp9fHNVU3Pbl"
   },
   "source": [
    "# 2.) Training using Mini-batch AdaGrad"
   ]
  },
  {
   "cell_type": "code",
   "execution_count": 6,
   "metadata": {
    "id": "HA3ZG3xX3Pbm"
   },
   "outputs": [],
   "source": [
    "tf.random.set_seed(1)\n",
    "model = Sequential([ Dense(units=10, activation=\"softmax\", kernel_regularizer=tf.keras.regularizers.l2(0.01), input_shape=(28*28,))]) \n",
    "model.compile(optimizer=tf.keras.optimizers.Adagrad(learning_rate=0.001), loss=\"sparse_categorical_crossentropy\")\n",
    "\n",
    "# without learning rate decay  \n",
    "# History_ada_grad = model.fit(x_train_p,y_train, epochs=num_epochs, batch_size = num_batch_size, verbose=0)\n",
    "\n",
    "# with learning rate decay\n",
    "History_ada_grad = model.fit(x_train_p,y_train, epochs = num_epochs, batch_size = num_batch_size, verbose = 0, callbacks=[callback]) \n"
   ]
  },
  {
   "cell_type": "markdown",
   "metadata": {
    "id": "eTZ7tDG93Pbm"
   },
   "source": [
    "# 3.) Training using Mini-batch gradient descent with Nesterov’s momentum\n"
   ]
  },
  {
   "cell_type": "code",
   "execution_count": 7,
   "metadata": {
    "id": "hnuJVn6F3Pbm"
   },
   "outputs": [],
   "source": [
    "tf.random.set_seed(1)\n",
    "model = Sequential([ Dense(units=10, activation=\"softmax\", kernel_regularizer=tf.keras.regularizers.l2(0.01), input_shape=(28*28,))]) \n",
    "model.compile(optimizer=tf.keras.optimizers.SGD(learning_rate=0.001, momentum=0.7 , nesterov=True), loss=\"sparse_categorical_crossentropy\")\n",
    "\n",
    "# without learning rate decay  \n",
    "#H_nestrov = model.fit(x_train_p,y_train, epochs=3, batch_size=128, verbose=1)\n",
    "\n",
    "# with learning rate decay\n",
    "History_nestrov = model.fit(x_train_p,y_train, epochs=num_epochs, batch_size = num_batch_size, callbacks=[callback],verbose=0) "
   ]
  },
  {
   "cell_type": "markdown",
   "metadata": {
    "id": "8klKOw5p3Pbm"
   },
   "source": [
    "# 4.) Training using Mini-batch Adam\n",
    "\n",
    "\n"
   ]
  },
  {
   "cell_type": "code",
   "execution_count": 8,
   "metadata": {
    "id": "S6aa9_la3Pbn"
   },
   "outputs": [],
   "source": [
    "tf.random.set_seed(1)\n",
    "model = Sequential([ Dense(units=10, activation=\"softmax\", kernel_regularizer=tf.keras.regularizers.l2(0.01), input_shape=(28*28,))]) \n",
    "model.compile(optimizer=tf.keras.optimizers.Adam(learning_rate=0.001), loss=\"sparse_categorical_crossentropy\")\n",
    "\n",
    "# without learning rate decay  \n",
    "#History_adam = model.fit(x_train_p,y_train, epochs=num_epochs, batch_size=128, verbose=0) \n",
    "\n",
    "# with learning rate decay\n",
    "History_adam = model.fit(x_train_p,y_train, epochs=num_epochs, batch_size = num_batch_size, callbacks=[callback],verbose = 0)"
   ]
  },
  {
   "cell_type": "code",
   "execution_count": 9,
   "metadata": {
    "colab": {
     "base_uri": "https://localhost:8080/",
     "height": 312
    },
    "id": "hcRMc4kI3Pbn",
    "outputId": "21c20d51-0e5d-4958-d954-6c56b574af15"
   },
   "outputs": [
    {
     "data": {
      "text/plain": [
       "<Figure size 640x480 with 0 Axes>"
      ]
     },
     "metadata": {},
     "output_type": "display_data"
    },
    {
     "data": {
      "image/png": "[encoded data removed]",
      "text/plain": [
       "<Figure size 432x288 with 1 Axes>"
      ]
     },
     "metadata": {
      "needs_background": "light"
     },
     "output_type": "display_data"
    }
   ],
   "source": [
    "figure(num=None, figsize=(8, 6), dpi=80, facecolor='w', edgecolor='k')\n",
    "\n",
    "# plotting the average loss per epoch for the training dataset for different optimization algorithms \n",
    "num_epochs=45\n",
    "plt.figure()\n",
    "epochs = np.arange(0,num_epochs,1)\n",
    "\n",
    "loss_gd = History_gd.history[\"loss\"]\n",
    "plt.plot(epochs, loss_gd, label=\"mini-batch GD\")\n",
    "\n",
    "loss_ada_grad = History_ada_grad.history[\"loss\"]\n",
    "plt.plot(epochs, loss_ada_grad, label=\"mini-batch AdaGrad\")\n",
    "\n",
    "loss_nestrov = History_nestrov.history[\"loss\"]\n",
    "plt.plot(epochs, loss_nestrov, label=\"mini-batch GD with Nestrov\")\n",
    "\n",
    "loss_adam = History_adam.history[\"loss\"]\n",
    "plt.plot(epochs, loss_adam, label=\"mini-batch Adam\")\n",
    "\n",
    "plt.xlabel(\"epochs\")\n",
    "plt.ylabel(\"Training loss\")\n",
    "plt.title(\"Training loss versus epoch for different optimization algorithms\")\n",
    "plt.legend()\n",
    "plt.show()"
   ]
  },
  {
   "cell_type": "markdown",
   "metadata": {
    "id": "fkno868r3Pbn"
   },
   "source": [
    "### Discussion on the performance of different optimization algorithms compared to one another."
   ]
  },
  {
   "cell_type": "markdown",
   "metadata": {
    "id": "AP3hHT02GMC_"
   },
   "source": [
    "When comparing optimization algorithms we want an algorithm which yields the lowest Training Loss. Amgonst the four different optimization algorithms we implemented, Mini-batch Adam had the best overall performance. One thing to note about Mini-batch Adam is that it appears to plateau rather quickly. Mini-batch gradient descent with Nesterov’s momentum performed well too. As epochs increased it narrow the gap between itself and Mini-batch Adam.  Mini-batch AdaGrad and Mini-batch gradient descent had similar results. As epochs increased their results became nearly identical. Our epochs ranged from 0 to 45, but I suspect if the range of epochs was increased we would see gradient descent, AdaGrand and gradient descent with Nesterov’s momentum improve while Adam remained constant."
   ]
  },
  {
   "cell_type": "markdown",
   "metadata": {
    "id": "hYMMg5AN3Pbo"
   },
   "source": [
    "## Question 2. CIFAR10 CNN: convergence of minibatch gradient descent\n",
    "\n",
    "Implement a CNN architecture that consists of 3 convolutional layers followed by a hidden fully connected layer of 1000 units. \n",
    "\n",
    "Each convolutional layer consists of a sublayer of 5x5 convolutional filters with stride 1 followed by a sublayer of 2x2 max-pool units with stride 2. Each neuron applies ReLU activation function.\n",
    "\n",
    "**Task:** Evaluate **both the training and test loss function values** versus the number of epochs. In addition, show the results by adding dropout. Comment the results. \n",
    "\n",
    "**Hints:**\n",
    "\n",
    "- Load CIFAR10 data by the following code:\n",
    "```\n",
    "from keras.datasets import cifar10\n",
    "(data_train, label_train), (data_test, label_test) = cifar10.load_data()\n",
    "```\n",
    "- In order to reduce the training time, use only the first 50 mini-batches for each epoch. \n",
    "- More specifically, at the beginning of each epoch, randomly shuffle the whole dataset training dataset. Then, only iterate through the first 50 mini-batches for one epoch training.  \n",
    "- Training on Google Colab GPU is highly recommended. The training time on 1 GPU is roughly 1 minute per epoch.  \n",
    "\n",
    "The hyper-parameter settings:\n",
    "- minibatch size = 128 \n",
    "- learning rate = 0.001\n",
    "- total number of epoches = 100"
   ]
  },
  {
   "cell_type": "markdown",
   "metadata": {
    "id": "xOeul1_o3Pbo"
   },
   "source": [
    "### Loading and preprocessing the dataset "
   ]
  },
  {
   "cell_type": "code",
   "execution_count": 10,
   "metadata": {
    "colab": {
     "base_uri": "https://localhost:8080/"
    },
    "id": "9zqaUqDE3Pbo",
    "outputId": "0ac91a73-bf09-47b0-96ce-f51713731cba"
   },
   "outputs": [
    {
     "name": "stdout",
     "output_type": "stream",
     "text": [
      "(50000, 32, 32, 3) (50000, 1)\n",
      "(10000, 32, 32, 3) (10000, 1)\n",
      "[[6]\n",
      " [9]\n",
      " [9]\n",
      " [4]]\n",
      "[0 1 2 3 4 5 6 7 8 9]\n",
      "255 0\n",
      "(50000, 32, 32, 3)\n",
      "(10000, 32, 32, 3)\n",
      "1.0 0.0\n"
     ]
    }
   ],
   "source": [
    "# loading the cifar10 dataset \n",
    "(data_train, label_train), (data_test, label_test) = cifar10.load_data()\n",
    "\n",
    "# Insights into cifar data\n",
    "print(data_train.shape, label_train.shape)\n",
    "print(data_test.shape, label_test.shape)\n",
    "print(label_train[:4])\n",
    "print(np.unique(label_train))\n",
    "\n",
    "# See range of values in training data\n",
    "print(np.max(data_train), np.min(data_train))\n",
    "\n",
    "# preprocessing the training dataset \n",
    "data_train_p = data_train/255. \n",
    "print(data_train_p.shape)\n",
    "\n",
    "# preprocessing the testing dataset\n",
    "data_test_p = data_test/255.\n",
    "print(data_test_p.shape)\n",
    "\n",
    "# See range of values in preprocessed training data (notice diff in max)\n",
    "print(np.max(data_train_p), np.min(data_train_p))"
   ]
  },
  {
   "cell_type": "code",
   "execution_count": 11,
   "metadata": {
    "colab": {
     "base_uri": "https://localhost:8080/"
    },
    "id": "U0zZBGwG3Pbp",
    "outputId": "fe2503f2-3f60-41a6-ab83-448deb1d65a9"
   },
   "outputs": [
    {
     "name": "stdout",
     "output_type": "stream",
     "text": [
      "Model: \"sequential_4\"\n",
      "_________________________________________________________________\n",
      "Layer (type)                 Output Shape              Param #   \n",
      "=================================================================\n",
      "conv2d (Conv2D)              (None, 32, 32, 64)        4864      \n",
      "_________________________________________________________________\n",
      "max_pooling2d (MaxPooling2D) (None, 16, 16, 64)        0         \n",
      "_________________________________________________________________\n",
      "dropout (Dropout)            (None, 16, 16, 64)        0         \n",
      "_________________________________________________________________\n",
      "conv2d_1 (Conv2D)            (None, 16, 16, 32)        51232     \n",
      "_________________________________________________________________\n",
      "max_pooling2d_1 (MaxPooling2 (None, 8, 8, 32)          0         \n",
      "_________________________________________________________________\n",
      "conv2d_2 (Conv2D)            (None, 4, 4, 10)          8010      \n",
      "_________________________________________________________________\n",
      "max_pooling2d_2 (MaxPooling2 (None, 2, 2, 10)          0         \n",
      "_________________________________________________________________\n",
      "flatten (Flatten)            (None, 40)                0         \n",
      "_________________________________________________________________\n",
      "dense_4 (Dense)              (None, 1000)              41000     \n",
      "_________________________________________________________________\n",
      "dropout_1 (Dropout)          (None, 1000)              0         \n",
      "_________________________________________________________________\n",
      "dense_5 (Dense)              (None, 10)                10010     \n",
      "=================================================================\n",
      "Total params: 115,116\n",
      "Trainable params: 115,116\n",
      "Non-trainable params: 0\n",
      "_________________________________________________________________\n"
     ]
    }
   ],
   "source": [
    "# defining the model \n",
    "model = Sequential()\n",
    "\n",
    "# convolutional layer w/ sublayer of 5x5 convolutional filters & stride 1\n",
    "model.add(Conv2D(filters=64, kernel_size=(5,5), strides=(1,1), padding=\"same\", activation=\"relu\", input_shape=(32,32,3)))\n",
    "\n",
    "# sublayer of 2x2 max-pool units with stride 2\n",
    "model.add(MaxPooling2D(pool_size=(2, 2), strides=(2,2), padding='same'))\n",
    "\n",
    "# DROPOUT LAYER\n",
    "model.add(Dropout(rate=0.2)) \n",
    "\n",
    "# convolutional layer w/ sublayer of 5x5 convolutional filters & stride 1\n",
    "model.add(Conv2D(filters=32, kernel_size=(5,5), strides=(1,1), padding = \"same\", activation=\"relu\"))\n",
    "\n",
    "# sublayer of 2x2 max-pool units with stride 2\n",
    "model.add(MaxPooling2D(pool_size=(2, 2), strides=(2,2), padding='same'))\n",
    "\n",
    "# convolutional layer w/ sublayer of 5x5 convolutional filters & stride 1\n",
    "model.add(Conv2D(filters=10, kernel_size=(5,5), strides=(1,1), padding=\"valid\", activation=\"relu\"))\n",
    "\n",
    "# sublayer of 2x2 max-pool units with stride 2\n",
    "model.add(MaxPooling2D(pool_size=(2, 2), strides=(2,2), padding='valid'))\n",
    "\n",
    "# Flatten\n",
    "model.add(Flatten())\n",
    "\n",
    "# Add Dense layer\n",
    "model.add(Dense(1000 , activation=\"relu\"))\n",
    "\n",
    "# DROPOUT LAYER\n",
    "model.add(Dropout(rate=0.5))\n",
    "\n",
    "# Add final Dense layer\n",
    "model.add(Dense(10, activation=\"softmax\"))\n",
    "\n",
    "# see summary\n",
    "model.summary()"
   ]
  },
  {
   "cell_type": "code",
   "execution_count": 12,
   "metadata": {
    "colab": {
     "base_uri": "https://localhost:8080/"
    },
    "id": "HqiwQAJG3Pbq",
    "outputId": "c35b3ec1-d7fd-41c1-ac41-8714c2e136d6",
    "scrolled": true
   },
   "outputs": [
    {
     "name": "stdout",
     "output_type": "stream",
     "text": [
      "Train on 50000 samples, validate on 10000 samples\n",
      "Epoch 1/50\n",
      "50000/50000 [==============================] - 110s 2ms/sample - loss: 1.7041 - val_loss: 1.5058\n",
      "Epoch 2/50\n",
      "50000/50000 [==============================] - 117s 2ms/sample - loss: 1.3663 - val_loss: 1.2686\n",
      "Epoch 3/50\n",
      "50000/50000 [==============================] - 108s 2ms/sample - loss: 1.2367 - val_loss: 1.1792\n",
      "Epoch 4/50\n",
      "50000/50000 [==============================] - 117s 2ms/sample - loss: 1.1510 - val_loss: 1.1281\n",
      "Epoch 5/50\n",
      "50000/50000 [==============================] - 117s 2ms/sample - loss: 1.0893 - val_loss: 1.0604\n",
      "Epoch 6/50\n",
      "50000/50000 [==============================] - 135s 3ms/sample - loss: 1.0336 - val_loss: 1.0395\n",
      "Epoch 7/50\n",
      "50000/50000 [==============================] - 139s 3ms/sample - loss: 0.9959 - val_loss: 1.0487\n",
      "Epoch 8/50\n",
      "50000/50000 [==============================] - 121s 2ms/sample - loss: 0.9583 - val_loss: 0.9465\n",
      "Epoch 9/50\n",
      "50000/50000 [==============================] - 117s 2ms/sample - loss: 0.9241 - val_loss: 0.9512\n",
      "Epoch 10/50\n",
      "50000/50000 [==============================] - 126s 3ms/sample - loss: 0.9007 - val_loss: 0.9292\n",
      "Epoch 11/50\n",
      "50000/50000 [==============================] - 136s 3ms/sample - loss: 0.8775 - val_loss: 0.9155\n",
      "Epoch 12/50\n",
      "50000/50000 [==============================] - 135s 3ms/sample - loss: 0.8619 - val_loss: 0.9012\n",
      "Epoch 13/50\n",
      "50000/50000 [==============================] - 124s 2ms/sample - loss: 0.8486 - val_loss: 0.9662\n",
      "Epoch 14/50\n",
      "50000/50000 [==============================] - 139s 3ms/sample - loss: 0.8180 - val_loss: 0.8903\n",
      "Epoch 15/50\n",
      "50000/50000 [==============================] - 129s 3ms/sample - loss: 0.8124 - val_loss: 0.8547\n",
      "Epoch 16/50\n",
      "43392/50000 [=========================>....] - ETA: 16s - loss: 0.7893"
     ]
    },
    {
     "ename": "KeyboardInterrupt",
     "evalue": "",
     "output_type": "error",
     "traceback": [
      "\u001b[1;31m---------------------------------------------------------------------------\u001b[0m",
      "\u001b[1;31mKeyboardInterrupt\u001b[0m                         Traceback (most recent call last)",
      "\u001b[1;32m<ipython-input-12-78ef4825d42e>\u001b[0m in \u001b[0;36m<module>\u001b[1;34m\u001b[0m\n\u001b[0;32m      4\u001b[0m \u001b[1;31m# fit with epoches = 50, includes validation data\u001b[0m\u001b[1;33m\u001b[0m\u001b[1;33m\u001b[0m\u001b[1;33m\u001b[0m\u001b[0m\n\u001b[0;32m      5\u001b[0m \u001b[0mnum_epochs\u001b[0m \u001b[1;33m=\u001b[0m \u001b[1;36m50\u001b[0m\u001b[1;33m\u001b[0m\u001b[1;33m\u001b[0m\u001b[0m\n\u001b[1;32m----> 6\u001b[1;33m \u001b[0mHistory2\u001b[0m \u001b[1;33m=\u001b[0m \u001b[0mmodel\u001b[0m\u001b[1;33m.\u001b[0m\u001b[0mfit\u001b[0m\u001b[1;33m(\u001b[0m\u001b[0mdata_train_p\u001b[0m\u001b[1;33m,\u001b[0m \u001b[0mlabel_train\u001b[0m\u001b[1;33m,\u001b[0m \u001b[0mvalidation_data\u001b[0m\u001b[1;33m=\u001b[0m \u001b[1;33m(\u001b[0m\u001b[0mdata_test_p\u001b[0m\u001b[1;33m,\u001b[0m \u001b[0mlabel_test\u001b[0m\u001b[1;33m)\u001b[0m \u001b[1;33m,\u001b[0m \u001b[0mbatch_size\u001b[0m\u001b[1;33m=\u001b[0m \u001b[1;36m128\u001b[0m\u001b[1;33m,\u001b[0m \u001b[0mepochs\u001b[0m\u001b[1;33m=\u001b[0m\u001b[0mnum_epochs\u001b[0m\u001b[1;33m)\u001b[0m\u001b[1;33m\u001b[0m\u001b[1;33m\u001b[0m\u001b[0m\n\u001b[0m",
      "\u001b[1;32m~\\.conda\\envs\\Robbie\\lib\\site-packages\\tensorflow_core\\python\\keras\\engine\\training.py\u001b[0m in \u001b[0;36mfit\u001b[1;34m(self, x, y, batch_size, epochs, verbose, callbacks, validation_split, validation_data, shuffle, class_weight, sample_weight, initial_epoch, steps_per_epoch, validation_steps, validation_freq, max_queue_size, workers, use_multiprocessing, **kwargs)\u001b[0m\n\u001b[0;32m    817\u001b[0m         \u001b[0mmax_queue_size\u001b[0m\u001b[1;33m=\u001b[0m\u001b[0mmax_queue_size\u001b[0m\u001b[1;33m,\u001b[0m\u001b[1;33m\u001b[0m\u001b[1;33m\u001b[0m\u001b[0m\n\u001b[0;32m    818\u001b[0m         \u001b[0mworkers\u001b[0m\u001b[1;33m=\u001b[0m\u001b[0mworkers\u001b[0m\u001b[1;33m,\u001b[0m\u001b[1;33m\u001b[0m\u001b[1;33m\u001b[0m\u001b[0m\n\u001b[1;32m--> 819\u001b[1;33m         use_multiprocessing=use_multiprocessing)\n\u001b[0m\u001b[0;32m    820\u001b[0m \u001b[1;33m\u001b[0m\u001b[0m\n\u001b[0;32m    821\u001b[0m   def evaluate(self,\n",
      "\u001b[1;32m~\\.conda\\envs\\Robbie\\lib\\site-packages\\tensorflow_core\\python\\keras\\engine\\training_v2.py\u001b[0m in \u001b[0;36mfit\u001b[1;34m(self, model, x, y, batch_size, epochs, verbose, callbacks, validation_split, validation_data, shuffle, class_weight, sample_weight, initial_epoch, steps_per_epoch, validation_steps, validation_freq, max_queue_size, workers, use_multiprocessing, **kwargs)\u001b[0m\n\u001b[0;32m    340\u001b[0m                 \u001b[0mmode\u001b[0m\u001b[1;33m=\u001b[0m\u001b[0mModeKeys\u001b[0m\u001b[1;33m.\u001b[0m\u001b[0mTRAIN\u001b[0m\u001b[1;33m,\u001b[0m\u001b[1;33m\u001b[0m\u001b[1;33m\u001b[0m\u001b[0m\n\u001b[0;32m    341\u001b[0m                 \u001b[0mtraining_context\u001b[0m\u001b[1;33m=\u001b[0m\u001b[0mtraining_context\u001b[0m\u001b[1;33m,\u001b[0m\u001b[1;33m\u001b[0m\u001b[1;33m\u001b[0m\u001b[0m\n\u001b[1;32m--> 342\u001b[1;33m                 total_epochs=epochs)\n\u001b[0m\u001b[0;32m    343\u001b[0m             \u001b[0mcbks\u001b[0m\u001b[1;33m.\u001b[0m\u001b[0mmake_logs\u001b[0m\u001b[1;33m(\u001b[0m\u001b[0mmodel\u001b[0m\u001b[1;33m,\u001b[0m \u001b[0mepoch_logs\u001b[0m\u001b[1;33m,\u001b[0m \u001b[0mtraining_result\u001b[0m\u001b[1;33m,\u001b[0m \u001b[0mModeKeys\u001b[0m\u001b[1;33m.\u001b[0m\u001b[0mTRAIN\u001b[0m\u001b[1;33m)\u001b[0m\u001b[1;33m\u001b[0m\u001b[1;33m\u001b[0m\u001b[0m\n\u001b[0;32m    344\u001b[0m \u001b[1;33m\u001b[0m\u001b[0m\n",
      "\u001b[1;32m~\\.conda\\envs\\Robbie\\lib\\site-packages\\tensorflow_core\\python\\keras\\engine\\training_v2.py\u001b[0m in \u001b[0;36mrun_one_epoch\u001b[1;34m(model, iterator, execution_function, dataset_size, batch_size, strategy, steps_per_epoch, num_samples, mode, training_context, total_epochs)\u001b[0m\n\u001b[0;32m    126\u001b[0m         step=step, mode=mode, size=current_batch_size) as batch_logs:\n\u001b[0;32m    127\u001b[0m       \u001b[1;32mtry\u001b[0m\u001b[1;33m:\u001b[0m\u001b[1;33m\u001b[0m\u001b[1;33m\u001b[0m\u001b[0m\n\u001b[1;32m--> 128\u001b[1;33m         \u001b[0mbatch_outs\u001b[0m \u001b[1;33m=\u001b[0m \u001b[0mexecution_function\u001b[0m\u001b[1;33m(\u001b[0m\u001b[0miterator\u001b[0m\u001b[1;33m)\u001b[0m\u001b[1;33m\u001b[0m\u001b[1;33m\u001b[0m\u001b[0m\n\u001b[0m\u001b[0;32m    129\u001b[0m       \u001b[1;32mexcept\u001b[0m \u001b[1;33m(\u001b[0m\u001b[0mStopIteration\u001b[0m\u001b[1;33m,\u001b[0m \u001b[0merrors\u001b[0m\u001b[1;33m.\u001b[0m\u001b[0mOutOfRangeError\u001b[0m\u001b[1;33m)\u001b[0m\u001b[1;33m:\u001b[0m\u001b[1;33m\u001b[0m\u001b[1;33m\u001b[0m\u001b[0m\n\u001b[0;32m    130\u001b[0m         \u001b[1;31m# TODO(kaftan): File bug about tf function and errors.OutOfRangeError?\u001b[0m\u001b[1;33m\u001b[0m\u001b[1;33m\u001b[0m\u001b[1;33m\u001b[0m\u001b[0m\n",
      "\u001b[1;32m~\\.conda\\envs\\Robbie\\lib\\site-packages\\tensorflow_core\\python\\keras\\engine\\training_v2_utils.py\u001b[0m in \u001b[0;36mexecution_function\u001b[1;34m(input_fn)\u001b[0m\n\u001b[0;32m     96\u001b[0m     \u001b[1;31m# `numpy` translates Tensors to values in Eager mode.\u001b[0m\u001b[1;33m\u001b[0m\u001b[1;33m\u001b[0m\u001b[1;33m\u001b[0m\u001b[0m\n\u001b[0;32m     97\u001b[0m     return nest.map_structure(_non_none_constant_value,\n\u001b[1;32m---> 98\u001b[1;33m                               distributed_function(input_fn))\n\u001b[0m\u001b[0;32m     99\u001b[0m \u001b[1;33m\u001b[0m\u001b[0m\n\u001b[0;32m    100\u001b[0m   \u001b[1;32mreturn\u001b[0m \u001b[0mexecution_function\u001b[0m\u001b[1;33m\u001b[0m\u001b[1;33m\u001b[0m\u001b[0m\n",
      "\u001b[1;32m~\\.conda\\envs\\Robbie\\lib\\site-packages\\tensorflow_core\\python\\eager\\def_function.py\u001b[0m in \u001b[0;36m__call__\u001b[1;34m(self, *args, **kwds)\u001b[0m\n\u001b[0;32m    566\u001b[0m         \u001b[0mxla_context\u001b[0m\u001b[1;33m.\u001b[0m\u001b[0mExit\u001b[0m\u001b[1;33m(\u001b[0m\u001b[1;33m)\u001b[0m\u001b[1;33m\u001b[0m\u001b[1;33m\u001b[0m\u001b[0m\n\u001b[0;32m    567\u001b[0m     \u001b[1;32melse\u001b[0m\u001b[1;33m:\u001b[0m\u001b[1;33m\u001b[0m\u001b[1;33m\u001b[0m\u001b[0m\n\u001b[1;32m--> 568\u001b[1;33m       \u001b[0mresult\u001b[0m \u001b[1;33m=\u001b[0m \u001b[0mself\u001b[0m\u001b[1;33m.\u001b[0m\u001b[0m_call\u001b[0m\u001b[1;33m(\u001b[0m\u001b[1;33m*\u001b[0m\u001b[0margs\u001b[0m\u001b[1;33m,\u001b[0m \u001b[1;33m**\u001b[0m\u001b[0mkwds\u001b[0m\u001b[1;33m)\u001b[0m\u001b[1;33m\u001b[0m\u001b[1;33m\u001b[0m\u001b[0m\n\u001b[0m\u001b[0;32m    569\u001b[0m \u001b[1;33m\u001b[0m\u001b[0m\n\u001b[0;32m    570\u001b[0m     \u001b[1;32mif\u001b[0m \u001b[0mtracing_count\u001b[0m \u001b[1;33m==\u001b[0m \u001b[0mself\u001b[0m\u001b[1;33m.\u001b[0m\u001b[0m_get_tracing_count\u001b[0m\u001b[1;33m(\u001b[0m\u001b[1;33m)\u001b[0m\u001b[1;33m:\u001b[0m\u001b[1;33m\u001b[0m\u001b[1;33m\u001b[0m\u001b[0m\n",
      "\u001b[1;32m~\\.conda\\envs\\Robbie\\lib\\site-packages\\tensorflow_core\\python\\eager\\def_function.py\u001b[0m in \u001b[0;36m_call\u001b[1;34m(self, *args, **kwds)\u001b[0m\n\u001b[0;32m    597\u001b[0m       \u001b[1;31m# In this case we have created variables on the first call, so we run the\u001b[0m\u001b[1;33m\u001b[0m\u001b[1;33m\u001b[0m\u001b[1;33m\u001b[0m\u001b[0m\n\u001b[0;32m    598\u001b[0m       \u001b[1;31m# defunned version which is guaranteed to never create variables.\u001b[0m\u001b[1;33m\u001b[0m\u001b[1;33m\u001b[0m\u001b[1;33m\u001b[0m\u001b[0m\n\u001b[1;32m--> 599\u001b[1;33m       \u001b[1;32mreturn\u001b[0m \u001b[0mself\u001b[0m\u001b[1;33m.\u001b[0m\u001b[0m_stateless_fn\u001b[0m\u001b[1;33m(\u001b[0m\u001b[1;33m*\u001b[0m\u001b[0margs\u001b[0m\u001b[1;33m,\u001b[0m \u001b[1;33m**\u001b[0m\u001b[0mkwds\u001b[0m\u001b[1;33m)\u001b[0m  \u001b[1;31m# pylint: disable=not-callable\u001b[0m\u001b[1;33m\u001b[0m\u001b[1;33m\u001b[0m\u001b[0m\n\u001b[0m\u001b[0;32m    600\u001b[0m     \u001b[1;32melif\u001b[0m \u001b[0mself\u001b[0m\u001b[1;33m.\u001b[0m\u001b[0m_stateful_fn\u001b[0m \u001b[1;32mis\u001b[0m \u001b[1;32mnot\u001b[0m \u001b[1;32mNone\u001b[0m\u001b[1;33m:\u001b[0m\u001b[1;33m\u001b[0m\u001b[1;33m\u001b[0m\u001b[0m\n\u001b[0;32m    601\u001b[0m       \u001b[1;31m# Release the lock early so that multiple threads can perform the call\u001b[0m\u001b[1;33m\u001b[0m\u001b[1;33m\u001b[0m\u001b[1;33m\u001b[0m\u001b[0m\n",
      "\u001b[1;32m~\\.conda\\envs\\Robbie\\lib\\site-packages\\tensorflow_core\\python\\eager\\function.py\u001b[0m in \u001b[0;36m__call__\u001b[1;34m(self, *args, **kwargs)\u001b[0m\n\u001b[0;32m   2361\u001b[0m     \u001b[1;32mwith\u001b[0m \u001b[0mself\u001b[0m\u001b[1;33m.\u001b[0m\u001b[0m_lock\u001b[0m\u001b[1;33m:\u001b[0m\u001b[1;33m\u001b[0m\u001b[1;33m\u001b[0m\u001b[0m\n\u001b[0;32m   2362\u001b[0m       \u001b[0mgraph_function\u001b[0m\u001b[1;33m,\u001b[0m \u001b[0margs\u001b[0m\u001b[1;33m,\u001b[0m \u001b[0mkwargs\u001b[0m \u001b[1;33m=\u001b[0m \u001b[0mself\u001b[0m\u001b[1;33m.\u001b[0m\u001b[0m_maybe_define_function\u001b[0m\u001b[1;33m(\u001b[0m\u001b[0margs\u001b[0m\u001b[1;33m,\u001b[0m \u001b[0mkwargs\u001b[0m\u001b[1;33m)\u001b[0m\u001b[1;33m\u001b[0m\u001b[1;33m\u001b[0m\u001b[0m\n\u001b[1;32m-> 2363\u001b[1;33m     \u001b[1;32mreturn\u001b[0m \u001b[0mgraph_function\u001b[0m\u001b[1;33m.\u001b[0m\u001b[0m_filtered_call\u001b[0m\u001b[1;33m(\u001b[0m\u001b[0margs\u001b[0m\u001b[1;33m,\u001b[0m \u001b[0mkwargs\u001b[0m\u001b[1;33m)\u001b[0m  \u001b[1;31m# pylint: disable=protected-access\u001b[0m\u001b[1;33m\u001b[0m\u001b[1;33m\u001b[0m\u001b[0m\n\u001b[0m\u001b[0;32m   2364\u001b[0m \u001b[1;33m\u001b[0m\u001b[0m\n\u001b[0;32m   2365\u001b[0m   \u001b[1;33m@\u001b[0m\u001b[0mproperty\u001b[0m\u001b[1;33m\u001b[0m\u001b[1;33m\u001b[0m\u001b[0m\n",
      "\u001b[1;32m~\\.conda\\envs\\Robbie\\lib\\site-packages\\tensorflow_core\\python\\eager\\function.py\u001b[0m in \u001b[0;36m_filtered_call\u001b[1;34m(self, args, kwargs)\u001b[0m\n\u001b[0;32m   1609\u001b[0m          if isinstance(t, (ops.Tensor,\n\u001b[0;32m   1610\u001b[0m                            resource_variable_ops.BaseResourceVariable))),\n\u001b[1;32m-> 1611\u001b[1;33m         self.captured_inputs)\n\u001b[0m\u001b[0;32m   1612\u001b[0m \u001b[1;33m\u001b[0m\u001b[0m\n\u001b[0;32m   1613\u001b[0m   \u001b[1;32mdef\u001b[0m \u001b[0m_call_flat\u001b[0m\u001b[1;33m(\u001b[0m\u001b[0mself\u001b[0m\u001b[1;33m,\u001b[0m \u001b[0margs\u001b[0m\u001b[1;33m,\u001b[0m \u001b[0mcaptured_inputs\u001b[0m\u001b[1;33m,\u001b[0m \u001b[0mcancellation_manager\u001b[0m\u001b[1;33m=\u001b[0m\u001b[1;32mNone\u001b[0m\u001b[1;33m)\u001b[0m\u001b[1;33m:\u001b[0m\u001b[1;33m\u001b[0m\u001b[1;33m\u001b[0m\u001b[0m\n",
      "\u001b[1;32m~\\.conda\\envs\\Robbie\\lib\\site-packages\\tensorflow_core\\python\\eager\\function.py\u001b[0m in \u001b[0;36m_call_flat\u001b[1;34m(self, args, captured_inputs, cancellation_manager)\u001b[0m\n\u001b[0;32m   1690\u001b[0m       \u001b[1;31m# No tape is watching; skip to running the function.\u001b[0m\u001b[1;33m\u001b[0m\u001b[1;33m\u001b[0m\u001b[1;33m\u001b[0m\u001b[0m\n\u001b[0;32m   1691\u001b[0m       return self._build_call_outputs(self._inference_function.call(\n\u001b[1;32m-> 1692\u001b[1;33m           ctx, args, cancellation_manager=cancellation_manager))\n\u001b[0m\u001b[0;32m   1693\u001b[0m     forward_backward = self._select_forward_and_backward_functions(\n\u001b[0;32m   1694\u001b[0m         \u001b[0margs\u001b[0m\u001b[1;33m,\u001b[0m\u001b[1;33m\u001b[0m\u001b[1;33m\u001b[0m\u001b[0m\n",
      "\u001b[1;32m~\\.conda\\envs\\Robbie\\lib\\site-packages\\tensorflow_core\\python\\eager\\function.py\u001b[0m in \u001b[0;36mcall\u001b[1;34m(self, ctx, args, cancellation_manager)\u001b[0m\n\u001b[0;32m    543\u001b[0m               \u001b[0minputs\u001b[0m\u001b[1;33m=\u001b[0m\u001b[0margs\u001b[0m\u001b[1;33m,\u001b[0m\u001b[1;33m\u001b[0m\u001b[1;33m\u001b[0m\u001b[0m\n\u001b[0;32m    544\u001b[0m               \u001b[0mattrs\u001b[0m\u001b[1;33m=\u001b[0m\u001b[1;33m(\u001b[0m\u001b[1;34m\"executor_type\"\u001b[0m\u001b[1;33m,\u001b[0m \u001b[0mexecutor_type\u001b[0m\u001b[1;33m,\u001b[0m \u001b[1;34m\"config_proto\"\u001b[0m\u001b[1;33m,\u001b[0m \u001b[0mconfig\u001b[0m\u001b[1;33m)\u001b[0m\u001b[1;33m,\u001b[0m\u001b[1;33m\u001b[0m\u001b[1;33m\u001b[0m\u001b[0m\n\u001b[1;32m--> 545\u001b[1;33m               ctx=ctx)\n\u001b[0m\u001b[0;32m    546\u001b[0m         \u001b[1;32melse\u001b[0m\u001b[1;33m:\u001b[0m\u001b[1;33m\u001b[0m\u001b[1;33m\u001b[0m\u001b[0m\n\u001b[0;32m    547\u001b[0m           outputs = execute.execute_with_cancellation(\n",
      "\u001b[1;32m~\\.conda\\envs\\Robbie\\lib\\site-packages\\tensorflow_core\\python\\eager\\execute.py\u001b[0m in \u001b[0;36mquick_execute\u001b[1;34m(op_name, num_outputs, inputs, attrs, ctx, name)\u001b[0m\n\u001b[0;32m     59\u001b[0m     tensors = pywrap_tensorflow.TFE_Py_Execute(ctx._handle, device_name,\n\u001b[0;32m     60\u001b[0m                                                \u001b[0mop_name\u001b[0m\u001b[1;33m,\u001b[0m \u001b[0minputs\u001b[0m\u001b[1;33m,\u001b[0m \u001b[0mattrs\u001b[0m\u001b[1;33m,\u001b[0m\u001b[1;33m\u001b[0m\u001b[1;33m\u001b[0m\u001b[0m\n\u001b[1;32m---> 61\u001b[1;33m                                                num_outputs)\n\u001b[0m\u001b[0;32m     62\u001b[0m   \u001b[1;32mexcept\u001b[0m \u001b[0mcore\u001b[0m\u001b[1;33m.\u001b[0m\u001b[0m_NotOkStatusException\u001b[0m \u001b[1;32mas\u001b[0m \u001b[0me\u001b[0m\u001b[1;33m:\u001b[0m\u001b[1;33m\u001b[0m\u001b[1;33m\u001b[0m\u001b[0m\n\u001b[0;32m     63\u001b[0m     \u001b[1;32mif\u001b[0m \u001b[0mname\u001b[0m \u001b[1;32mis\u001b[0m \u001b[1;32mnot\u001b[0m \u001b[1;32mNone\u001b[0m\u001b[1;33m:\u001b[0m\u001b[1;33m\u001b[0m\u001b[1;33m\u001b[0m\u001b[0m\n",
      "\u001b[1;31mKeyboardInterrupt\u001b[0m: "
     ]
    }
   ],
   "source": [
    "# compiling the model with adam optmizer\n",
    "model.compile(loss=\"sparse_categorical_crossentropy\", optimizer=\"adam\") # 0.001 is the default learning rate for Adam\n",
    "\n",
    "# fit with epoches = 50, includes validation data\n",
    "num_epochs = 50\n",
    "History2 = model.fit(data_train_p, label_train, validation_data= (data_test_p, label_test) , batch_size= 128, epochs=num_epochs)\n"
   ]
  },
  {
   "cell_type": "code",
   "execution_count": null,
   "metadata": {
    "colab": {
     "base_uri": "https://localhost:8080/",
     "height": 296
    },
    "id": "Q2pDCTOc3Pbq",
    "outputId": "ec086a9c-cb0a-4543-b955-ee90537462d7"
   },
   "outputs": [],
   "source": [
    "# plotting training and testing loss \n",
    "epochs = np.arange(0,num_epochs,1)\n",
    "train_loss = History2.history[\"loss\"]\n",
    "# also called validation loss (Although test and validation loss are diff in ML)\n",
    "test_loss  = History2.history[\"val_loss\"] \n",
    "\n",
    "plt.figure()\n",
    "plt.plot(epochs, train_loss, label=\"train loss\")\n",
    "plt.plot(epochs, test_loss, label=\"test loss\" )\n",
    "plt.title(\"Training and Test loss\")\n",
    "plt.xlabel(\"epochs\")\n",
    "plt.ylabel(\"Loss\")\n",
    "plt.legend()\n",
    "plt.show()\n"
   ]
  },
  {
   "cell_type": "code",
   "execution_count": null,
   "metadata": {
    "colab": {
     "base_uri": "https://localhost:8080/"
    },
    "id": "FaOl5hPu3Pbq",
    "outputId": "a223399e-92b2-46a8-aa0a-7e5d19a6fb06"
   },
   "outputs": [],
   "source": [
    "# model training using only the 50 first mini-batches after randomly shuffling data on each epoch \n",
    "num_epochs = 100\n",
    "mini_batch_size  = 128\n",
    "num_mini_batches = 50\n",
    "num_full_train_samples = data_train_p.shape[0]\n",
    "num_train_samples_per_epoch = mini_batch_size*num_mini_batches\n",
    "\n",
    "train_losses = []\n",
    "test_losses  = []\n",
    "for i in range(num_epochs):\n",
    "    indices = np.random.choice( num_full_train_samples , size=(num_train_samples_per_epoch,) , replace=False)\n",
    "    data_train_set = data_train_p[indices]\n",
    "    label_train_set = label_train[indices]\n",
    "    H = model.fit(data_train_set, label_train_set, validation_data= (data_test_p, label_test) , batch_size= 128, epochs=1)\n",
    "    train_losses = train_losses + H.history[\"loss\"]\n",
    "    test_losses  = test_losses  + H.history[\"val_loss\"]\n",
    "\n",
    "\n",
    "print(len(train_losses), len(test_losses))"
   ]
  },
  {
   "cell_type": "code",
   "execution_count": null,
   "metadata": {
    "colab": {
     "base_uri": "https://localhost:8080/",
     "height": 296
    },
    "id": "obQfbxC73Pbq",
    "outputId": "cfda6cb7-a3ca-4884-ab90-08b66f53429e"
   },
   "outputs": [],
   "source": [
    "# plotting training and testing loss \n",
    "epochs = np.arange(0,num_epochs,1)\n",
    "plt.figure()\n",
    "plt.plot(epochs, train_losses, label=\"train loss\")\n",
    "plt.plot(epochs, test_losses, label=\"test loss\" )\n",
    "plt.title(\"Training and Test loss\")\n",
    "plt.xlabel(\"epochs\")\n",
    "plt.ylabel(\"Loss\")\n",
    "plt.legend()\n",
    "plt.show()"
   ]
  },
  {
   "cell_type": "markdown",
   "metadata": {
    "id": "Xp-T_Omf3Pbn"
   },
   "source": [
    "The visualization above illustrates the Training and Testing loss over 100 epochs. As you can see they follow a similar path. The training loss decreases at a faster rate. Towards the end of the X-axis the gap between training loss and test increass increases."
   ]
  },
  {
   "cell_type": "markdown",
   "metadata": {
    "id": "T4sUqu5N3Pbr"
   },
   "source": [
    "## Question 3. CIFAR10 image classification\n",
    "\n",
    "Design and implement a convolutional neural network for the CIFAR10 image classification task aiming to achieve a high test accuracy. Evaluate the classification accuracy by reporting top-1 and top-5 test error rates. \n",
    "\n",
    "**Task:** Plot the loss function, top-1 error rate and top-5 error rate per epoch versus the number of epochs for the training and the test dataset. \n",
    "Make sure to well describe and justify your network architecture design choices. "
   ]
  },
  {
   "cell_type": "markdown",
   "metadata": {
    "id": "wB0oIZ-M3Pbr"
   },
   "source": [
    "### Base Model"
   ]
  },
  {
   "cell_type": "code",
   "execution_count": null,
   "metadata": {
    "colab": {
     "base_uri": "https://localhost:8080/"
    },
    "id": "AkI6-D7B3Pbr",
    "outputId": "91333661-de7a-4820-c4d6-a3828754be27"
   },
   "outputs": [],
   "source": [
    "# defining the model \n",
    "model = Sequential()\n",
    "\n",
    "model.add(Conv2D(filters=64, kernel_size=(5,5), strides=(1,1), padding=\"same\", activation=\"relu\", input_shape=(32,32,3)))\n",
    "model.add(MaxPooling2D(pool_size=(2, 2), strides=(2,2), padding='valid'))\n",
    "model.add(Conv2D(filters=10, kernel_size=(5,5), strides=(1,1), padding=\"valid\", activation=\"relu\"))\n",
    "model.add(MaxPooling2D(pool_size=(2, 2), strides=(2,2), padding='valid'))\n",
    "model.add(Flatten())\n",
    "model.add(Dense(1000 , activation=\"relu\"))\n",
    "model.add(Dense(10, activation=\"softmax\"))\n",
    "\n",
    "# see summary\n",
    "model.summary()"
   ]
  },
  {
   "cell_type": "markdown",
   "metadata": {
    "id": "JeI-9uf2iHVb"
   },
   "source": [
    "Our base model is a simple CNN with two CNN layers. We wanted to start off by having a base model to compare our more complex models too. With the two CNN layers we also add two MaxPooling layers before flatting the network. As you can see the base model's architecture lead to a small number of overall paramters."
   ]
  },
  {
   "cell_type": "code",
   "execution_count": null,
   "metadata": {
    "colab": {
     "base_uri": "https://localhost:8080/"
    },
    "id": "F7HQ-hkn3Pbr",
    "outputId": "331acc6e-ddcb-4724-cb72-fb89c35dc663"
   },
   "outputs": [],
   "source": [
    "# compiling the model with adam optmizer and specifying the accuracy metrics (top-1 and top-5 accuracy)\n",
    "acc_metrics = [tf.keras.metrics.SparseTopKCategoricalAccuracy(k=1, name='Top_1_Acc') , \n",
    "               tf.keras.metrics.SparseTopKCategoricalAccuracy(k=5, name='Top_5_Acc')]\n",
    "model.compile(loss=\"sparse_categorical_crossentropy\", optimizer=\"adam\", metrics= acc_metrics) \n",
    "\n",
    "\n",
    "# training the model \n",
    "num_epochs = 100\n",
    "mini_batch_size  = 128\n",
    "num_mini_batches = 50\n",
    "num_full_train_samples = data_train_p.shape[0]\n",
    "num_train_samples_per_epoch = mini_batch_size*num_mini_batches\n",
    "\n",
    "train_losses = []\n",
    "test_losses = []\n",
    "train_top_1_acc = []\n",
    "train_top_5_acc = []\n",
    "test_top_1_acc = []\n",
    "test_top_5_acc = []\n",
    "\n",
    "for i in range(num_epochs):\n",
    "    indices = np.random.choice(num_full_train_samples , size=(num_train_samples_per_epoch,) , replace=False)\n",
    "    data_train_set = data_train_p[indices]\n",
    "    label_train_set = label_train[indices]\n",
    "    H = model.fit(data_train_set, label_train_set, validation_data= (data_test_p, label_test) , batch_size= mini_batch_size, epochs = 1)\n",
    "    train_losses.append(H.history[\"loss\"])\n",
    "    test_losses.append(H.history[\"val_loss\"])\n",
    "    train_top_1_acc.append(H.history[\"Top_1_Acc\"])\n",
    "    train_top_5_acc.append(H.history[\"Top_5_Acc\"])\n",
    "    test_top_1_acc.append(H.history[\"val_Top_1_Acc\"])\n",
    "    test_top_5_acc.append(H.history[\"val_Top_5_Acc\"])\n"
   ]
  },
  {
   "cell_type": "code",
   "execution_count": null,
   "metadata": {
    "colab": {
     "base_uri": "https://localhost:8080/",
     "height": 574
    },
    "id": "W1wQX4j-3Pbr",
    "outputId": "c8922295-12ae-4f51-e8da-0762a92b6dbd",
    "scrolled": true
   },
   "outputs": [],
   "source": [
    "# plotting the results \n",
    "train_top_1_error = (1 - np.array(train_top_1_acc))*100\n",
    "test_top_1_error  = (1 - np.array(test_top_1_acc))*100\n",
    "train_top_5_error = (1 - np.array(train_top_5_acc))*100\n",
    "test_top_5_error  = (1 - np.array(test_top_5_acc))*100\n",
    "\n",
    "epochs = np.arange(0,num_epochs,1)\n",
    "plt.figure()\n",
    "plt.plot(epochs, train_losses, label=\"train loss\")\n",
    "plt.plot(epochs, test_losses, label=\"test loss\" )\n",
    "plt.title(\"Training and Test loss\")\n",
    "plt.xlabel(\"epochs\")\n",
    "plt.ylabel(\"Loss\")\n",
    "plt.legend()\n",
    "\n",
    "plt.figure()\n",
    "plt.plot(epochs, train_top_1_error, label=\"top-1 train error rate\")\n",
    "plt.plot(epochs, test_top_1_error, label=\"top-1 test error rate\")\n",
    "plt.plot(epochs, train_top_5_error, label=\"top-5 train error rate\")\n",
    "plt.plot(epochs, test_top_5_error, label=\"top-5 test error rate\")\n",
    "plt.title(\"Top-1 and top-5 train and test set error rates\")\n",
    "plt.xlabel(\"epochs\")\n",
    "plt.ylabel(\"Error Rate\")\n",
    "plt.legend()\n",
    "\n",
    "plt.show()"
   ]
  },
  {
   "cell_type": "markdown",
   "metadata": {},
   "source": [
    "The test loss gradual increases at 40 epochs plus, while the training loss always decreases."
   ]
  },
  {
   "cell_type": "markdown",
   "metadata": {
    "id": "bSMvCCAs3Pbs"
   },
   "source": [
    "### Model 2"
   ]
  },
  {
   "cell_type": "code",
   "execution_count": null,
   "metadata": {
    "colab": {
     "base_uri": "https://localhost:8080/"
    },
    "id": "qbwdg8mt3Pbs",
    "outputId": "8028389f-1041-4211-c3e5-49ef17c5678e",
    "scrolled": true
   },
   "outputs": [],
   "source": [
    "# defining the model \n",
    "model = Sequential()\n",
    "\n",
    "model.add(Conv2D(filters=64, kernel_size=(5,5), strides=(1,1), padding=\"same\", activation=\"relu\", input_shape=(32,32,3)))\n",
    "\n",
    "# Adding Batch Normalization\n",
    "model.add(BatchNormalization())\n",
    "model.add(MaxPooling2D(pool_size=(2, 2), strides=(2,2), padding='valid'))\n",
    "model.add(Conv2D(filters=32, kernel_size=(5,5), strides=(1,1), padding=\"valid\", activation=\"relu\"))\n",
    "\n",
    "# Adding drop out\n",
    "model.add(Dropout(0.2))\n",
    "\n",
    "# Adding Batch Normalization\n",
    "model.add(BatchNormalization())\n",
    "model.add(MaxPooling2D(pool_size=(2, 2), strides=(2,2), padding='valid'))\n",
    "\n",
    "# Adding Conv2D, Batch Normalization\n",
    "model.add(Conv2D(filters=64, kernel_size=(5,5), strides=(1,1), padding=\"same\", activation=\"relu\", input_shape=(32,32,3)))\n",
    "model.add(BatchNormalization())\n",
    "\n",
    "# Adding drop out\n",
    "model.add(Dropout(0.4))\n",
    "model.add(Flatten())\n",
    "model.add(Dense(1000 , activation=\"relu\"))\n",
    "model.add(Dense(10, activation=\"softmax\"))\n",
    "\n",
    "# see summary\n",
    "model.summary()"
   ]
  },
  {
   "cell_type": "markdown",
   "metadata": {},
   "source": [
    "Make the model more complex by introducing more CNN layers. We add dropout layers to decrease the chance of overfitting"
   ]
  },
  {
   "cell_type": "code",
   "execution_count": null,
   "metadata": {
    "colab": {
     "base_uri": "https://localhost:8080/"
    },
    "id": "PkG-hAJG3Pbs",
    "outputId": "d512ff5e-c0b8-43c7-f340-70693a423122"
   },
   "outputs": [],
   "source": [
    "# compiling the model with adam optmizer and specifying the accuracy metrics (top-1 and top-5 accuracy)\n",
    "acc_metrics = [tf.keras.metrics.SparseTopKCategoricalAccuracy(k=1, name='Top_1_Acc') , \n",
    "               tf.keras.metrics.SparseTopKCategoricalAccuracy(k=5, name='Top_5_Acc') ]\n",
    "\n",
    "# Changing learning rate by a factor of 10\n",
    "model.compile(loss=\"sparse_categorical_crossentropy\", optimizer = tf.keras.optimizers.Adam(learning_rate=0.01), metrics= acc_metrics) \n",
    "\n",
    "\n",
    "# training the model \n",
    "num_epochs = 100\n",
    "mini_batch_size  = 128\n",
    "num_mini_batches = 75\n",
    "num_full_train_samples = data_train_p.shape[0]\n",
    "num_train_samples_per_epoch = mini_batch_size*num_mini_batches\n",
    "\n",
    "train_losses = []\n",
    "test_losses = []\n",
    "train_top_1_acc = []\n",
    "train_top_5_acc = []\n",
    "test_top_1_acc = []\n",
    "test_top_5_acc = []\n",
    "\n",
    "for i in range(num_epochs):\n",
    "    indices = np.random.choice(num_full_train_samples , size=(num_train_samples_per_epoch,) , replace=False)\n",
    "    data_train_set = data_train_p[indices]\n",
    "    label_train_set = label_train[indices]\n",
    "    H = model.fit(data_train_set, label_train_set, validation_data= (data_test_p, label_test) , batch_size = mini_batch_size, epochs=1)\n",
    "    train_losses.append(H.history[\"loss\"])\n",
    "    test_losses.append(H.history[\"val_loss\"])\n",
    "    train_top_1_acc.append(H.history[\"Top_1_Acc\"])\n",
    "    train_top_5_acc.append(H.history[\"Top_5_Acc\"])\n",
    "    test_top_1_acc.append(H.history[\"val_Top_1_Acc\"])\n",
    "    test_top_5_acc.append(H.history[\"val_Top_5_Acc\"])"
   ]
  },
  {
   "cell_type": "code",
   "execution_count": null,
   "metadata": {
    "colab": {
     "base_uri": "https://localhost:8080/",
     "height": 574
    },
    "id": "i8M5OoFGFyhz",
    "outputId": "b196cfff-d0e9-404b-8d2f-d95ff59f322f"
   },
   "outputs": [],
   "source": [
    "# plotting the results \n",
    "train_top_1_error = (1 - np.array(train_top_1_acc))*100\n",
    "test_top_1_error  = (1 - np.array(test_top_1_acc))*100\n",
    "train_top_5_error = (1 - np.array(train_top_5_acc))*100\n",
    "test_top_5_error  = (1 - np.array(test_top_5_acc))*100\n",
    "\n",
    "epochs = np.arange(0,num_epochs,1)\n",
    "plt.figure()\n",
    "plt.plot(epochs, train_losses, label=\"train loss\")\n",
    "plt.plot(epochs, test_losses, label=\"test loss\" )\n",
    "plt.title(\"Training and Test loss\")\n",
    "plt.xlabel(\"epochs\")\n",
    "plt.ylabel(\"Loss\")\n",
    "plt.legend()\n",
    "\n",
    "plt.figure()\n",
    "plt.plot(epochs, train_top_1_error, label=\"top-1 train error rate\")\n",
    "plt.plot(epochs, test_top_1_error, label=\"top-1 test error rate\")\n",
    "plt.plot(epochs, train_top_5_error, label=\"top-5 train error rate\")\n",
    "plt.plot(epochs, test_top_5_error, label=\"top-5 test error rate\")\n",
    "plt.title(\"Top-1 and top-5 train and test set error rates\")\n",
    "plt.xlabel(\"epochs\")\n",
    "plt.ylabel(\"Error Rate\")\n",
    "plt.legend()\n",
    "\n",
    "plt.show()"
   ]
  },
  {
   "cell_type": "code",
   "execution_count": null,
   "metadata": {
    "id": "nJ2dghovkAqV"
   },
   "outputs": [],
   "source": [
    "In Model 2 we decided to tweak the learning rate by a factor of 10. In comparison to the base model, the test loss remains consistent."
   ]
  },
  {
   "cell_type": "markdown",
   "metadata": {
    "id": "xz6922173Pbt"
   },
   "source": [
    "### Model 3"
   ]
  },
  {
   "cell_type": "code",
   "execution_count": null,
   "metadata": {
    "colab": {
     "base_uri": "https://localhost:8080/"
    },
    "id": "gZlmLLmf3Pbt",
    "outputId": "d188b45e-6a24-4a0c-e072-93fe9f524d6a"
   },
   "outputs": [],
   "source": [
    "# defining the model \n",
    "model = Sequential()\n",
    "\n",
    "# Changing kernel_size\n",
    "model.add(Conv2D(filters=32, kernel_size=(3,3), strides=(1,1), padding=\"same\", activation=\"relu\", input_shape=(32,32,3)))\n",
    "model.add(BatchNormalization())\n",
    "model.add(MaxPooling2D(pool_size=(2, 2), strides=(2,2), padding='valid'))\n",
    "model.add(Dropout(0.5))\n",
    "\n",
    "# Changing kernel_size\n",
    "model.add(Conv2D(filters = 64, kernel_size=(3,3), strides=(1,1), padding=\"valid\", activation=\"relu\"))\n",
    "model.add(BatchNormalization())\n",
    "model.add(MaxPooling2D(pool_size=(2, 2), strides=(2,2), padding='valid'))\n",
    "\n",
    "# Adding 2D Convolution Layer and Batch Normalization\n",
    "model.add(Conv2D(filters=64, kernel_size=(3,3), strides=(1,1), padding=\"valid\", activation=\"relu\"))\n",
    "model.add(BatchNormalization())\n",
    "\n",
    "model.add(Dropout(0.25))\n",
    "model.add(Conv2D(filters = 64, kernel_size=(3,3), strides=(1,1), padding=\"valid\", activation=\"relu\"))\n",
    "model.add(BatchNormalization())\n",
    "\n",
    "model.add(Dropout(0.5))\n",
    "model.add(Flatten())\n",
    "model.add(Dense(1000 , activation=\"relu\"))\n",
    "model.add(Dense(10, activation=\"softmax\"))\n",
    "\n",
    "# see summary\n",
    "model.summary()"
   ]
  },
  {
   "cell_type": "code",
   "execution_count": null,
   "metadata": {
    "colab": {
     "base_uri": "https://localhost:8080/"
    },
    "id": "QtCMp61b3Pbt",
    "outputId": "e89b95ed-7c60-495e-b4a0-820d1b798a0b"
   },
   "outputs": [],
   "source": [
    "# compiling the model with adam optmizer and specifying the accuracy metrics (top-1 and top-5 accuracy)\n",
    "acc_metrics = [tf.keras.metrics.SparseTopKCategoricalAccuracy(k=1, name='Top_1_Acc') , \n",
    "               tf.keras.metrics.SparseTopKCategoricalAccuracy(k=5, name='Top_5_Acc') ]\n",
    "model.compile(loss=\"sparse_categorical_crossentropy\", optimizer=\"adam\", metrics= acc_metrics) \n",
    "\n",
    "\n",
    "# training the model \n",
    "num_epochs = 100\n",
    "mini_batch_size  = 128\n",
    "num_mini_batches = 75\n",
    "num_full_train_samples = data_train_p.shape[0]\n",
    "num_train_samples_per_epoch = mini_batch_size*num_mini_batches\n",
    "\n",
    "train_losses = []\n",
    "test_losses = []\n",
    "train_top_1_acc = []\n",
    "train_top_5_acc = []\n",
    "test_top_1_acc = []\n",
    "test_top_5_acc = []\n",
    "\n",
    "for i in range(num_epochs):\n",
    "    indices = np.random.choice(num_full_train_samples , size=(num_train_samples_per_epoch,) , replace=False)\n",
    "    data_train_set = data_train_p[indices]\n",
    "    label_train_set = label_train[indices]\n",
    "    H = model.fit(data_train_set, label_train_set, validation_data= (data_test_p, label_test) , batch_size= mini_batch_size, epochs=1)\n",
    "    train_losses.append(H.history[\"loss\"])\n",
    "    test_losses.append(H.history[\"val_loss\"])\n",
    "    train_top_1_acc.append(H.history[\"Top_1_Acc\"])\n",
    "    train_top_5_acc.append(H.history[\"Top_5_Acc\"])\n",
    "    test_top_1_acc.append(H.history[\"val_Top_1_Acc\"])\n",
    "    test_top_5_acc.append(H.history[\"val_Top_5_Acc\"])"
   ]
  },
  {
   "cell_type": "code",
   "execution_count": null,
   "metadata": {
    "colab": {
     "base_uri": "https://localhost:8080/",
     "height": 574
    },
    "id": "4nflncozFrCb",
    "outputId": "82b923a0-7f2d-488d-ab7c-bbef28d84219"
   },
   "outputs": [],
   "source": [
    "# plotting the results \n",
    "train_top_1_error = (1 - np.array(train_top_1_acc))*100\n",
    "test_top_1_error  = (1 - np.array(test_top_1_acc))*100\n",
    "train_top_5_error = (1 - np.array(train_top_5_acc))*100\n",
    "test_top_5_error  = (1 - np.array(test_top_5_acc))*100\n",
    "\n",
    "epochs = np.arange(0,num_epochs,1)\n",
    "plt.figure()\n",
    "plt.plot(epochs, train_losses, label=\"train loss\")\n",
    "plt.plot(epochs, test_losses, label=\"test loss\" )\n",
    "plt.title(\"Training and Test loss\")\n",
    "plt.xlabel(\"epochs\")\n",
    "plt.ylabel(\"Loss\")\n",
    "plt.legend()\n",
    "\n",
    "plt.figure()\n",
    "plt.plot(epochs, train_top_1_error, label=\"top-1 train error rate\")\n",
    "plt.plot(epochs, test_top_1_error, label=\"top-1 test error rate\")\n",
    "plt.plot(epochs, train_top_5_error, label=\"top-5 train error rate\")\n",
    "plt.plot(epochs, test_top_5_error, label=\"top-5 test error rate\")\n",
    "plt.title(\"Top-1 and top-5 train and test set error rates\")\n",
    "plt.xlabel(\"epochs\")\n",
    "plt.ylabel(\"Error Rate\")\n",
    "plt.legend()\n",
    "\n",
    "plt.show()"
   ]
  },
  {
   "cell_type": "markdown",
   "metadata": {
    "id": "yc8s8oBK3Pbt"
   },
   "source": [
    "### Model 4"
   ]
  },
  {
   "cell_type": "code",
   "execution_count": null,
   "metadata": {
    "colab": {
     "base_uri": "https://localhost:8080/"
    },
    "id": "mFCH-KNo3Pbt",
    "outputId": "e92e65a5-0b7a-4d05-b246-17df9e19c735",
    "scrolled": true
   },
   "outputs": [],
   "source": [
    "# defining the model \n",
    "model = Sequential()\n",
    "\n",
    "model.add(Conv2D(filters=64, kernel_size=(5,5), strides=(1,1), padding=\"same\", activation=\"relu\", input_shape=(32,32,3)))\n",
    "\n",
    "# Adding Batch Normalization\n",
    "model.add(BatchNormalization())\n",
    "model.add(MaxPooling2D(pool_size=(2, 2), strides=(2,2), padding='same'))\n",
    "model.add(Conv2D(filters=10, kernel_size=(5,5), strides=(1,1), padding=\"same\", activation=\"relu\"))\n",
    "\n",
    "# Adding Batch Normalization\n",
    "model.add(BatchNormalization())\n",
    "model.add(MaxPooling2D(pool_size=(2, 2), strides=(2,2), padding='same'))\n",
    "\n",
    "model.add(Conv2D(filters=10, kernel_size=(3,3), padding=\"same\", activation=\"relu\"))\n",
    "model.add(BatchNormalization())\n",
    "model.add(Conv2D(filters=10, kernel_size=(3,3), padding=\"same\", activation=\"relu\"))\n",
    "model.add(BatchNormalization())\n",
    "\n",
    "# Adding drop out\n",
    "model.add(Dropout(0.4))\n",
    "model.add(Flatten())\n",
    "model.add(Dense(1000 , activation=\"relu\"))\n",
    "model.add(Dense(10, activation=\"softmax\"))\n",
    "\n",
    "# see summary\n",
    "model.summary()"
   ]
  },
  {
   "cell_type": "code",
   "execution_count": null,
   "metadata": {
    "colab": {
     "base_uri": "https://localhost:8080/"
    },
    "id": "tqot2czl3Pbt",
    "outputId": "6e13b7d5-923b-4bff-a5ee-d98caabb5ade"
   },
   "outputs": [],
   "source": [
    "# compiling the model with adam optmizer and specifying the accuracy metrics (top-1 and top-5 accuracy)\n",
    "acc_metrics = [tf.keras.metrics.SparseTopKCategoricalAccuracy(k=1, name='Top_1_Acc') , \n",
    "               tf.keras.metrics.SparseTopKCategoricalAccuracy(k=5, name='Top_5_Acc') ]\n",
    "model.compile(loss=\"sparse_categorical_crossentropy\", optimizer=\"adam\", metrics= acc_metrics) \n",
    "\n",
    "\n",
    "# training the model \n",
    "num_epochs = 100\n",
    "mini_batch_size  = 128\n",
    "num_mini_batches = 85\n",
    "num_full_train_samples = data_train_p.shape[0]\n",
    "num_train_samples_per_epoch = mini_batch_size*num_mini_batches\n",
    "\n",
    "train_losses = []\n",
    "test_losses = []\n",
    "train_top_1_acc = []\n",
    "train_top_5_acc = []\n",
    "test_top_1_acc = []\n",
    "test_top_5_acc = []\n",
    "\n",
    "for i in range(num_epochs):\n",
    "    indices = np.random.choice(num_full_train_samples , size=(num_train_samples_per_epoch,) , replace=False)\n",
    "    data_train_set = data_train_p[indices]\n",
    "    label_train_set = label_train[indices]\n",
    "    H = model.fit(data_train_set, label_train_set, validation_data= (data_test_p, label_test) , batch_size= mini_batch_size, epochs=1)\n",
    "    train_losses.append(H.history[\"loss\"])\n",
    "    test_losses.append(H.history[\"val_loss\"])\n",
    "    train_top_1_acc.append(H.history[\"Top_1_Acc\"])\n",
    "    train_top_5_acc.append(H.history[\"Top_5_Acc\"])\n",
    "    test_top_1_acc.append(H.history[\"val_Top_1_Acc\"])\n",
    "    test_top_5_acc.append(H.history[\"val_Top_5_Acc\"])"
   ]
  },
  {
   "cell_type": "code",
   "execution_count": null,
   "metadata": {
    "colab": {
     "base_uri": "https://localhost:8080/",
     "height": 574
    },
    "id": "_l-nEJ2lFo0O",
    "outputId": "a7fed1c0-8dbd-4e2b-a73d-79a514e50fa4",
    "scrolled": true
   },
   "outputs": [],
   "source": [
    "# plotting the results \n",
    "train_top_1_error = (1 - np.array(train_top_1_acc))*100\n",
    "test_top_1_error  = (1 - np.array(test_top_1_acc))*100\n",
    "train_top_5_error = (1 - np.array(train_top_5_acc))*100\n",
    "test_top_5_error  = (1 - np.array(test_top_5_acc))*100\n",
    "\n",
    "epochs = np.arange(0,num_epochs,1)\n",
    "plt.figure()\n",
    "plt.plot(epochs, train_losses, label=\"train loss\")\n",
    "plt.plot(epochs, test_losses, label=\"test loss\" )\n",
    "plt.title(\"Training and Test loss\")\n",
    "plt.xlabel(\"epochs\")\n",
    "plt.ylabel(\"Loss\")\n",
    "plt.legend()\n",
    "\n",
    "plt.figure()\n",
    "plt.plot(epochs, train_top_1_error, label=\"top-1 train error rate\")\n",
    "plt.plot(epochs, test_top_1_error, label=\"top-1 test error rate\")\n",
    "plt.plot(epochs, train_top_5_error, label=\"top-5 train error rate\")\n",
    "plt.plot(epochs, test_top_5_error, label=\"top-5 test error rate\")\n",
    "plt.title(\"Top-1 and top-5 train and test set error rates\")\n",
    "plt.xlabel(\"epochs\")\n",
    "plt.ylabel(\"Error Rate\")\n",
    "plt.legend()\n",
    "\n",
    "plt.show()"
   ]
  },
  {
   "cell_type": "markdown",
   "metadata": {},
   "source": [
    "#### As You can see the testing loss for our model peaks at around 30 epochs and at around 80 epochs it stays flat."
   ]
  },
  {
   "cell_type": "markdown",
   "metadata": {
    "id": "2heLLX0d3Pbu"
   },
   "source": [
    "### Model 5"
   ]
  },
  {
   "cell_type": "code",
   "execution_count": null,
   "metadata": {
    "colab": {
     "base_uri": "https://localhost:8080/"
    },
    "id": "_26jtY3j3Pbu",
    "outputId": "a36106d3-e1a2-4c40-db0f-fb660f8479fd"
   },
   "outputs": [],
   "source": [
    "# defining the model \n",
    "model = Sequential()\n",
    "\n",
    "model.add(Conv2D(filters=32, kernel_size=(3,3), strides=(1,1), padding=\"same\", activation=\"relu\", input_shape=(32,32,3), kernel_regularizer='l2'))\n",
    "# Adding Batch Normalization\n",
    "model.add(BatchNormalization())\n",
    "\n",
    "model.add(Conv2D(filters=32, kernel_size=(3,3), strides=(1,1), padding=\"same\", activation=\"relu\", input_shape=(32,32,3), kernel_regularizer='l2'))\n",
    "# Adding Batch Normalization\n",
    "model.add(BatchNormalization())\n",
    "model.add(MaxPooling2D(pool_size=(2, 2), strides=(2,2), padding='same'))\n",
    "\n",
    "# Adding drop out\n",
    "model.add(Dropout(0.2))\n",
    "\n",
    "# Adding Batch Normalization\n",
    "model.add(BatchNormalization())\n",
    "model.add(MaxPooling2D(pool_size=(2, 2), strides=(2,2), padding='same'))\n",
    "\n",
    "model.add(Conv2D(filters=32, kernel_size=(3,3), padding=\"same\", activation=\"relu\"))\n",
    "model.add(BatchNormalization())\n",
    "model.add(Conv2D(filters=64, kernel_size=(3,3), padding=\"same\", activation=\"relu\"))\n",
    "model.add(BatchNormalization())\n",
    "\n",
    "# Adding drop out\n",
    "model.add(Dropout(0.5))\n",
    "model.add(Flatten())\n",
    "model.add(Dense(512 , activation=\"relu\"))\n",
    "model.add(Dense(10, activation=\"softmax\"))\n",
    "\n",
    "# see summary\n",
    "model.summary()"
   ]
  },
  {
   "cell_type": "markdown",
   "metadata": {
    "id": "_13vpd8gi5uL"
   },
   "source": [
    "### In our final model we make modification to model 4 in order to produce a more accurcate model. Our first step is by adding l2 regularization by adding \"kernel_regularizer='l2'\" tp the dense layer. We also added more drop out layers to make sure we don't overfit given the increase in paramters. Lastly, we modified the flatten from 1,000 to 512 in order to minimize the amount of paramters used. Our modifications significantly imrpoved from Model 4. Our newest model val_Top_1_Acc: 0.7826"
   ]
  },
  {
   "cell_type": "code",
   "execution_count": null,
   "metadata": {
    "colab": {
     "base_uri": "https://localhost:8080/"
    },
    "id": "JtDicV2-3Pbu",
    "outputId": "61b461eb-c7ae-4344-f4e4-ef346be44d7d"
   },
   "outputs": [],
   "source": [
    "# compiling the model with adam optmizer and specifying the accuracy metrics (top-1 and top-5 accuracy)\n",
    "acc_metrics = [tf.keras.metrics.SparseTopKCategoricalAccuracy(k=1, name='Top_1_Acc') , \n",
    "               tf.keras.metrics.SparseTopKCategoricalAccuracy(k=5, name='Top_5_Acc') ]\n",
    "model.compile(loss=\"sparse_categorical_crossentropy\", optimizer=\"adam\", metrics= acc_metrics) \n",
    "\n",
    "\n",
    "# training the model \n",
    "num_epochs = 100\n",
    "mini_batch_size  = 128\n",
    "num_mini_batches = 100\n",
    "num_full_train_samples = data_train_p.shape[0]\n",
    "num_train_samples_per_epoch = mini_batch_size*num_mini_batches\n",
    "\n",
    "train_losses = []\n",
    "test_losses = []\n",
    "train_top_1_acc = []\n",
    "train_top_5_acc = []\n",
    "test_top_1_acc = []\n",
    "test_top_5_acc = []\n",
    "\n",
    "for i in range(num_epochs):\n",
    "    indices = np.random.choice(num_full_train_samples , size=(num_train_samples_per_epoch,) , replace = False)\n",
    "    data_train_set = data_train_p[indices]\n",
    "    label_train_set = label_train[indices]\n",
    "    H = model.fit(data_train_set, label_train_set, validation_data= (data_test_p, label_test) , batch_size= mini_batch_size, epochs=1)\n",
    "    train_losses.append(H.history[\"loss\"])\n",
    "    test_losses.append(H.history[\"val_loss\"])\n",
    "    train_top_1_acc.append(H.history[\"Top_1_Acc\"])\n",
    "    train_top_5_acc.append(H.history[\"Top_5_Acc\"])\n",
    "    test_top_1_acc.append(H.history[\"val_Top_1_Acc\"])\n",
    "    test_top_5_acc.append(H.history[\"val_Top_5_Acc\"])"
   ]
  },
  {
   "cell_type": "code",
   "execution_count": null,
   "metadata": {
    "colab": {
     "base_uri": "https://localhost:8080/",
     "height": 574
    },
    "id": "LxksB2SvFm2z",
    "outputId": "aabe69de-6345-4302-e158-e9cc06a94a62"
   },
   "outputs": [],
   "source": [
    "# plotting the results \n",
    "train_top_1_error = (1 - np.array(train_top_1_acc))*100\n",
    "test_top_1_error  = (1 - np.array(test_top_1_acc))*100\n",
    "train_top_5_error = (1 - np.array(train_top_5_acc))*100\n",
    "test_top_5_error  = (1 - np.array(test_top_5_acc))*100\n",
    "\n",
    "epochs = np.arange(0,num_epochs,1)\n",
    "plt.figure()\n",
    "plt.plot(epochs, train_losses, label=\"train loss\")\n",
    "plt.plot(epochs, test_losses, label=\"test loss\" )\n",
    "plt.title(\"Training and Test loss\")\n",
    "plt.xlabel(\"epochs\")\n",
    "plt.ylabel(\"Loss\")\n",
    "plt.legend()\n",
    "\n",
    "plt.figure()\n",
    "plt.plot(epochs, train_top_1_error, label=\"top-1 train error rate\")\n",
    "plt.plot(epochs, test_top_1_error, label=\"top-1 test error rate\")\n",
    "plt.plot(epochs, train_top_5_error, label=\"top-5 train error rate\")\n",
    "plt.plot(epochs, test_top_5_error, label=\"top-5 test error rate\")\n",
    "plt.title(\"Top-1 and top-5 train and test set error rates\")\n",
    "plt.xlabel(\"epochs\")\n",
    "plt.ylabel(\"Error Rate\")\n",
    "plt.legend()\n",
    "\n",
    "plt.show()"
   ]
  },
  {
   "cell_type": "code",
   "execution_count": null,
   "metadata": {
    "colab": {
     "base_uri": "https://localhost:8080/",
     "height": 174
    },
    "id": "G1ZOSFU-CoSZ",
    "outputId": "ca2e02a9-b30a-48ac-f9dd-1b9c1c02056d"
   },
   "outputs": [],
   "source": [
    "# list with cifar10 label names\n",
    "cifar10_label_names = ['airplane','automobile','bird','cat','deer','dog','frog','horse','ship','truck']\n",
    "\n",
    "# loading image and true label\n",
    "index = 4\n",
    "input_img = data_test_p[index]\n",
    "plt.figure(figsize=(2,2))\n",
    "plt.imshow(input_img)\n",
    "plt.title(\"Sample image with label {}:{}\".format(label_test[index], cifar10_label_names[label_test[index][0]]))\n",
    "plt.show()"
   ]
  },
  {
   "cell_type": "markdown",
   "metadata": {},
   "source": [
    "### Example of a prediction using our best model (Model 5)"
   ]
  },
  {
   "cell_type": "code",
   "execution_count": null,
   "metadata": {
    "colab": {
     "base_uri": "https://localhost:8080/"
    },
    "id": "iyJDkv8kqqGF",
    "outputId": "9321562e-d314-4db8-bc8a-bedbae6d47b7",
    "scrolled": true
   },
   "outputs": [],
   "source": [
    "# prediction using trained model\n",
    "y_pred = model.predict(np.array([input_img]))\n",
    "print(\"Class prediction probabilities : \\n {}\".format(y_pred))\n",
    "print(\"Model prediction- {}:{}\".format(np.argmax(y_pred), cifar10_label_names[np.argmax(y_pred)]))\n"
   ]
  }
 ],
 "metadata": {
  "accelerator": "GPU",
  "colab": {
   "collapsed_sections": [],
   "name": "AI_Project_v4.ipynb",
   "provenance": []
  },
  "kernelspec": {
   "display_name": "Python 3",
   "language": "python",
   "name": "python3"
  },
  "language_info": {
   "codemirror_mode": {
    "name": "ipython",
    "version": 3
   },
   "file_extension": ".py",
   "mimetype": "text/x-python",
   "name": "python",
   "nbconvert_exporter": "python",
   "pygments_lexer": "ipython3",
   "version": "3.7.5"
  }
 },
 "nbformat": 4,
 "nbformat_minor": 1
}
